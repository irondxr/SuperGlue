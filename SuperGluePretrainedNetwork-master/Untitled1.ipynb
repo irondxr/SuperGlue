{
 "cells": [
  {
   "cell_type": "code",
   "execution_count": 1,
   "id": "bb4aee88",
   "metadata": {},
   "outputs": [],
   "source": [
    "import cv2\n",
    "import numpy as np\n",
    "img = cv2.imread(\"remote.tif\")"
   ]
  },
  {
   "cell_type": "code",
   "execution_count": 2,
   "id": "f1fb7be4",
   "metadata": {},
   "outputs": [],
   "source": [
    "def on_EVENT_LBUTTONDOWN(event, x, y, flags, param):\n",
    "    if event == cv2.EVENT_LBUTTONDOWN:\n",
    "        xy = \"%d,%d\" % (x, y)\n",
    "        cv2.circle(img, (x, y), 1, (255, 0, 0), thickness=-1)\n",
    "        cv2.putText(img, xy, (x, y), cv2.FONT_HERSHEY_PLAIN, 1.0, (255, 255, 255), thickness=1)\n",
    "        cv2.imshow(\"image\", img)"
   ]
  },
  {
   "cell_type": "code",
   "execution_count": null,
   "id": "0642ac3e",
   "metadata": {},
   "outputs": [],
   "source": [
    "cv2.setMouseCallback(\"image\", on_EVENT_LBUTTONDOWN)\n",
    "cv2.imshow(\"image\", img)\n",
    "while (True):\n",
    "    try:\n",
    "        cv2.waitKey(100)\n",
    "    except Exception:\n",
    "        cv2.destroyWindow(\"image\")\n",
    "        break"
   ]
  }
 ],
 "metadata": {
  "kernelspec": {
   "display_name": "swin_det",
   "language": "python",
   "name": "swin_det"
  },
  "language_info": {
   "codemirror_mode": {
    "name": "ipython",
    "version": 3
   },
   "file_extension": ".py",
   "mimetype": "text/x-python",
   "name": "python",
   "nbconvert_exporter": "python",
   "pygments_lexer": "ipython3",
   "version": "3.8.13"
  }
 },
 "nbformat": 4,
 "nbformat_minor": 5
}
